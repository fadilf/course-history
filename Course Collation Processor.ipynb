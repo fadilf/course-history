{
 "cells": [
  {
   "cell_type": "code",
   "execution_count": 1,
   "metadata": {},
   "outputs": [],
   "source": [
    "import os\n",
    "import pandas as pd"
   ]
  },
  {
   "cell_type": "code",
   "execution_count": 2,
   "metadata": {},
   "outputs": [],
   "source": [
    "LOOKBACK_RANGE = 10"
   ]
  },
  {
   "cell_type": "code",
   "execution_count": 3,
   "metadata": {},
   "outputs": [],
   "source": [
    "catalog_filenames = []\n",
    "for filename in os.listdir(path = \"./catalog/\"):\n",
    "    if filename[-4:] == \".csv\":\n",
    "        catalog_filenames.append(filename)\n",
    "catalog_filenames = sorted(catalog_filenames)[-LOOKBACK_RANGE:]"
   ]
  },
  {
   "cell_type": "code",
   "execution_count": 4,
   "metadata": {},
   "outputs": [],
   "source": [
    "schedule_filenames = []\n",
    "for filename in os.listdir(path = \"./schedule/\"):\n",
    "    if filename[-4:] == \".csv\":\n",
    "        schedule_filenames.append(filename)"
   ]
  },
  {
   "cell_type": "code",
   "execution_count": 5,
   "metadata": {
    "scrolled": true
   },
   "outputs": [
    {
     "name": "stdout",
     "output_type": "stream",
     "text": [
      "2013-2014.csv\n",
      "2014-2015.csv\n",
      "2015-2016.csv\n",
      "2016-2017.csv\n",
      "2017-2018.csv\n",
      "2018-2019.csv\n",
      "2019-2020.csv\n",
      "2020-2021.csv\n",
      "2021-2022.csv\n",
      "2022-2023.csv\n"
     ]
    }
   ],
   "source": [
    "catalogs = []\n",
    "for catalog_filename in catalog_filenames:\n",
    "    print(catalog_filename)\n",
    "    catalog = pd.read_csv(\"./catalog/\" + catalog_filename, index_col=\"Course\")\n",
    "    catalogs.append(catalog)\n",
    "    \n",
    "cumulative = pd.concat(catalogs[::-1])\n",
    "cumulative = cumulative[~cumulative.index.duplicated(keep='first')]"
   ]
  },
  {
   "cell_type": "code",
   "execution_count": 6,
   "metadata": {},
   "outputs": [
    {
     "name": "stdout",
     "output_type": "stream",
     "text": [
      "['2013', '2014']\n",
      "['2014', '2015']\n",
      "['2015', '2016']\n",
      "['2016', '2017']\n",
      "['2017', '2018']\n",
      "['2018', '2019']\n",
      "['2019', '2020']\n",
      "['2020', '2021']\n",
      "['2021', '2022']\n",
      "['2022', '2023']\n"
     ]
    }
   ],
   "source": [
    "for catalog_filename in catalog_filenames:\n",
    "    yr_range = catalog_filename[:-4].split(\"-\")\n",
    "    print(yr_range)\n",
    "    \n",
    "    fall_sem = f\"Fall {yr_range[0]}\"\n",
    "    if f\"{fall_sem}.csv\" in schedule_filenames:\n",
    "        fall_schedule = pd.read_csv(f\"./schedule/{fall_sem}.csv\")\n",
    "        cumulative[fall_sem] = cumulative.index.isin(fall_schedule[\"Course\"])\n",
    "    \n",
    "    spring_sem = f\"Spring {yr_range[1]}\"\n",
    "    if f\"{spring_sem}.csv\" in schedule_filenames:\n",
    "        spring_schedule = pd.read_csv(f\"./schedule/{spring_sem}.csv\")\n",
    "        cumulative[spring_sem] = cumulative.index.isin(spring_schedule[\"Course\"])\n",
    "    \n",
    "    summer_sem = f\"Summer {yr_range[1]}\"\n",
    "    if f\"{summer_sem}.csv\" in schedule_filenames:\n",
    "        summer_schedule = pd.read_csv(f\"./schedule/{summer_sem}.csv\")\n",
    "        cumulative[summer_sem] = cumulative.index.isin(summer_schedule[\"Course\"])"
   ]
  },
  {
   "cell_type": "code",
   "execution_count": 7,
   "metadata": {},
   "outputs": [],
   "source": [
    "# Export data to CSV file\n",
    "cumulative.to_csv(\"collated.csv\")\n",
    "cumulative.to_json(\"collated.json\")"
   ]
  }
 ],
 "metadata": {
  "kernelspec": {
   "display_name": "Python 3",
   "language": "python",
   "name": "python3"
  },
  "language_info": {
   "codemirror_mode": {
    "name": "ipython",
    "version": 3
   },
   "file_extension": ".py",
   "mimetype": "text/x-python",
   "name": "python",
   "nbconvert_exporter": "python",
   "pygments_lexer": "ipython3",
   "version": "3.11.0"
  },
  "vscode": {
   "interpreter": {
    "hash": "5c7b89af1651d0b8571dde13640ecdccf7d5a6204171d6ab33e7c296e100e08a"
   }
  }
 },
 "nbformat": 4,
 "nbformat_minor": 4
}
