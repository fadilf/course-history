{
 "cells": [
  {
   "cell_type": "code",
   "execution_count": 19,
   "metadata": {},
   "outputs": [],
   "source": [
    "import requests\n",
    "from bs4 import BeautifulSoup\n",
    "import pandas as pd\n",
    "import time"
   ]
  },
  {
   "cell_type": "code",
   "execution_count": 17,
   "metadata": {},
   "outputs": [],
   "source": [
    "# Works from Summer 2004 onwards\n",
    "# Does not scrape LPAP data well\n",
    "def scrape_sem_to_csv(YEAR, SEM):\n",
    "    if SEM == \"Fall\":\n",
    "        term = f\"{YEAR-1}{10}\"\n",
    "    elif SEM == \"Spring\":\n",
    "        term = f\"{YEAR}{20}\"\n",
    "    elif SEM == \"Summer\":\n",
    "        term = f\"{YEAR}{30}\"\n",
    "    URL = f\"https://courses.rice.edu/courses/!SWKSCAT.cat?p_action=QUERY&p_term={term}&p_ptrm=1&p_crn=&p_onebar=&p_mode=AND&p_dept=&p_school=&p_spon_coll=&p_df=&p_insm=&p_submit=\"\n",
    "    page = requests.get(URL)\n",
    "    soup = BeautifulSoup(page.content, \"html.parser\")\n",
    "    table = soup.find(\"table\", class_=\"table-condensed\")\n",
    "    courses = table.find_all(\"tr\")\n",
    "    skip = True\n",
    "    data = []\n",
    "    for course in courses:\n",
    "        if skip:\n",
    "            skip = False\n",
    "            continue\n",
    "        course_crn = course.find(\"td\", class_=\"cls-crn\")\n",
    "        course_crn_link = course_crn.find(\"a\")[\"href\"]\n",
    "        course_crn = course_crn.text\n",
    "        course_code = \" \".join(course.find(\"td\", class_=\"cls-crs\").text.split(\" \")[:2])\n",
    "        title = course.find(\"td\", class_=\"cls-ttl\").text\n",
    "        instructors = []\n",
    "        for item in course.find(\"td\", class_=\"cls-ins\").find_all(\"div\"):\n",
    "            instructors.append(item.text)\n",
    "        instructors = \"; \".join(instructors)\n",
    "        meetings = []\n",
    "        for item in course.find(\"td\", class_=\"cls-mtg\").find(\"div\", class_=\"mtg-clas\").find_all(\"div\"):\n",
    "            meetings.append(item.text)\n",
    "        meetings = \"\\n\".join(meetings)\n",
    "        credits = course.find(\"td\", class_=\"cls-crd\").text\n",
    "\n",
    "        data.append([course_crn, course_crn_link, course_code, title, instructors, meetings, credits])\n",
    "    df = pd.DataFrame(data, columns=['CRN', 'URL', 'Course', 'Title', 'Instructors', 'Course Meeting', 'Credits'])\n",
    "    print(f\"Scraped {len(df)} courses for the {SEM} {YEAR} semester\")\n",
    "    df.to_csv(f\"./schedule/{SEM} {YEAR}.csv\", index=False)"
   ]
  },
  {
   "cell_type": "code",
   "execution_count": null,
   "metadata": {},
   "outputs": [],
   "source": []
  }
 ],
 "metadata": {
  "kernelspec": {
   "display_name": "Python 3",
   "language": "python",
   "name": "python3"
  },
  "language_info": {
   "codemirror_mode": {
    "name": "ipython",
    "version": 3
   },
   "file_extension": ".py",
   "mimetype": "text/x-python",
   "name": "python",
   "nbconvert_exporter": "python",
   "pygments_lexer": "ipython3",
   "version": "3.8.5"
  }
 },
 "nbformat": 4,
 "nbformat_minor": 4
}
